{
  "metadata": {
    "kernelspec": {
      "name": "python",
      "display_name": "Python (Pyodide)",
      "language": "python"
    },
    "language_info": {
      "codemirror_mode": {
        "name": "python",
        "version": 3
      },
      "file_extension": ".py",
      "mimetype": "text/x-python",
      "name": "python",
      "nbconvert_exporter": "python",
      "pygments_lexer": "ipython3",
      "version": "3.8"
    }
  },
  "nbformat_minor": 4,
  "nbformat": 4,
  "cells": [
    {
      "cell_type": "markdown",
      "source": "# Interaktiver Plot einer Funktion",
      "metadata": {}
    },
    {
      "cell_type": "code",
      "source": "%pip install -q ipywidgets\n%matplotlib inline\n\nfrom ipywidgets import interactive\n# suppress warning about building the font cache, see:\n# https://github.com/matplotlib/matplotlib/issues/23326\nimport matplotlib\nmatplotlib.set_loglevel(\"critical\")\nimport matplotlib.pyplot as plt\nimport numpy as np\n\ndef f(a, b):\n    x = np.linspace(-10, 10, num=1000)\n    plt.plot(x, a * x + b)\n    plt.title(r\"$f(x)=a \\cdot x + b$\")\n    plt.ylim(-5, 5)\n    plt.show()\n\ninteractive_plot = interactive(f, a=(-2.0, 2.0), b=(-3, 3, 0.5))\noutput = interactive_plot.children[-1]\ndisplay(interactive_plot)",
      "metadata": {
        "tags": [],
        "trusted": true
      },
      "outputs": [],
      "execution_count": null
    }
  ]
}